{
 "cells": [
  {
   "cell_type": "code",
   "execution_count": 11,
   "metadata": {},
   "outputs": [],
   "source": [
    "import pandas\n",
    "import time\n",
    "import matplotlib.pyplot as plt\n",
    "import requests\n",
    "import json\n",
    "\n",
    "class RegistrodeTiempos:\n",
    "\n",
    "    def __init__(self,nombre_funcionalidad):\n",
    "        self.nombre_estructura = \"\"\n",
    "        self.nombre_funcionalidad = nombre_funcionalidad\n",
    "        self.n_datos = 0\n",
    "\n",
    "        self.tiempo_inicio = 0\n",
    "        self.tiempo_fin = 0\n",
    "\n",
    "        try:\n",
    "            self.datos = pandas.read_csv(\"asintotico/{}.csv\".format(self.nombre_funcionalidad),index_col=\"Numero de datos\")\n",
    "        except:\n",
    "            self.datos = pandas.DataFrame(columns=[\"SLL\",\"LLT\",\"DLL\",\"CDLL\",\"ColaArray\",\"ColaLLT\",\"ColaDLL\",\"BST\",\"AVL\"],\n",
    "            index=[10**2,10**3,10**4,50000,10**5])\n",
    "            self.datos.index.name = \"Numero de datos\"\n",
    "\n",
    "    def iniciar_conteo(self,n,nombre_estructura):\n",
    "        self.tiempo_inicio = time.time()\n",
    "        self.nombre_estructura = nombre_estructura\n",
    "        self.n_datos = n\n",
    "\n",
    "    def finalizar_conteo(self):\n",
    "        self.tiempo_fin = time.time()\n",
    "        self.datos[self.nombre_estructura][self.n_datos] = self.tiempo_fin-self.tiempo_inicio\n",
    "        self.datos.to_csv(\"asintotico/{}.csv\".format(self.nombre_funcionalidad))\n",
    "\n",
    "    def retornar_grafica(self,estructuras_de_datos):\n",
    "        self.datos[estructuras_de_datos].plot()\n",
    "        plt.title(\"{}\".format(self.nombre_funcionalidad))\n",
    "        plt.ylabel(\"Tiempo (segundos)\")\n",
    "        plt.savefig(\"asintotico/{}.png\".format(self.nombre_funcionalidad))"
   ]
  },
  {
   "cell_type": "code",
   "execution_count": null,
   "metadata": {},
   "outputs": [],
   "source": [
    "import json\n",
    "import requests"
   ]
  },
  {
   "cell_type": "code",
   "execution_count": 2,
   "metadata": {},
   "outputs": [
    {
     "ename": "NameError",
     "evalue": "name 'RegistrodeTiempos' is not defined",
     "output_type": "error",
     "traceback": [
      "\u001b[1;31m---------------------------------------------------------------------------\u001b[0m",
      "\u001b[1;31mNameError\u001b[0m                                 Traceback (most recent call last)",
      "Input \u001b[1;32mIn [2]\u001b[0m, in \u001b[0;36m<module>\u001b[1;34m\u001b[0m\n\u001b[0;32m     10\u001b[0m f\u001b[38;5;241m.\u001b[39mclose()\n\u001b[0;32m     11\u001b[0m articulos \u001b[38;5;241m=\u001b[39m \u001b[38;5;28mlist\u001b[39m(articulos\u001b[38;5;241m.\u001b[39mitems())\n\u001b[1;32m---> 13\u001b[0m registro_de_tiempo \u001b[38;5;241m=\u001b[39m \u001b[43mRegistrodeTiempos\u001b[49m(\u001b[38;5;124m\"\u001b[39m\u001b[38;5;124mCrear_articulo\u001b[39m\u001b[38;5;124m\"\u001b[39m)\n\u001b[0;32m     15\u001b[0m \u001b[38;5;28;01mfor\u001b[39;00m i \u001b[38;5;129;01min\u001b[39;00m \u001b[38;5;28mrange\u001b[39m(\u001b[38;5;241m0\u001b[39m,\u001b[38;5;241m10\u001b[39m\u001b[38;5;241m*\u001b[39m\u001b[38;5;241m*\u001b[39m\u001b[38;5;241m5\u001b[39m):\n\u001b[0;32m     16\u001b[0m     dato_articulo \u001b[38;5;241m=\u001b[39m articulos[i\u001b[38;5;241m%\u001b[39m\u001b[38;5;241m100\u001b[39m]\n",
      "\u001b[1;31mNameError\u001b[0m: name 'RegistrodeTiempos' is not defined"
     ]
    }
   ],
   "source": [
    "#Medida de tiempos funcion crear_objeto\n",
    "import json\n",
    "import requests\n",
    "\n",
    "import sys\n",
    "sys.setrecursionlimit(10**9)\n",
    "\n",
    "f = open(\"Data/articulos.json\",encoding=\"utf8\")\n",
    "articulos = json.load(f)\n",
    "f.close()\n",
    "articulos = list(articulos.items())\n",
    "\n",
    "registro_de_tiempo = RegistrodeTiempos(\"Crear_articulo\")\n",
    "\n",
    "for i in range(0,10**5):\n",
    "    dato_articulo = articulos[i%100]\n",
    "    articulo = dato_articulo[1]\n",
    "    articulo[\"id\"]  = i\n",
    "    if i==99 or i==999 or i==9999 or i==49999 or i==99999:\n",
    "        #Función de interés a medir\n",
    "        registro_de_tiempo.iniciar_conteo(i+1,\"BST\")\n",
    "        x = requests.post(\"http://127.0.0.1:5000/api/articulo/crear_nuevo_articulo\",articulo)\n",
    "        registro_de_tiempo.finalizar_conteo()\n",
    "    else:\n",
    "        x = requests.post(\"http://127.0.0.1:5000/api/articulo/crear_nuevo_articulo\",articulo)"
   ]
  },
  {
   "cell_type": "code",
   "execution_count": null,
   "metadata": {},
   "outputs": [],
   "source": [
    "#Medida de tiempos funcion ver_consultar_objeto_en_posicion_i\n",
    "\n",
    "registro_de_tiempo = RegistrodeTiempos(\"consultar_articulo_con_id_i\")\n",
    "for n in [10**2,10**3,10**4,50000,10**5]:\n",
    "    #Función de interés a medir\n",
    "    id_a_consultar = n-1\n",
    "    argumento = {\"id\":id_a_consultar}\n",
    "    registro_de_tiempo.iniciar_conteo(n,\"BST\")\n",
    "    x = requests.post(\"http://127.0.0.1:5000/api/articulo/consultar_articulo\",argumento)\n",
    "    registro_de_tiempo.finalizar_conteo()"
   ]
  },
  {
   "cell_type": "code",
   "execution_count": null,
   "metadata": {},
   "outputs": [],
   "source": [
    "#Medida de tiempos funcion actualizar_objeto_en_posicion_i\n",
    "import json\n",
    "import requests\n",
    "\n",
    "registro_de_tiempo = RegistrodeTiempos(\"actualizar_articulo_con_id_i\")\n",
    "for n in [10**2,10**3,10**4,50000,10**5]:\n",
    "    #Función de interés a medir\n",
    "    id_a_actualizar = n-1\n",
    "    argumento = {\"id\":id_a_actualizar,\"atributo\":\"nombre\",\"valor\":\"Margarina Mama Juana\"}\n",
    "    registro_de_tiempo.iniciar_conteo(n,\"BST\")\n",
    "    x = requests.post(\"http://127.0.0.1:5000/api/usuario/actualizar_articulo\",argumento)\n",
    "    registro_de_tiempo.finalizar_conteo()"
   ]
  },
  {
   "cell_type": "code",
   "execution_count": null,
   "metadata": {},
   "outputs": [],
   "source": [
    "#Medida de tiempos funcion eliminar_objeto_en_posicion_i\n",
    "import json\n",
    "import requests\n",
    "\n",
    "\n",
    "registro_de_tiempo = RegistrodeTiempos(\"eliminar_articulo_en_posicion_i\")\n",
    "for n in [10**2,10**3,10**4,50000,10**5]:\n",
    "    #Función de interés a medir\n",
    "    id_a_eliminar = n-1\n",
    "    argumento = {\"id\":id_a_eliminar}\n",
    "    registro_de_tiempo.iniciar_conteo(n,\"BST\")\n",
    "    x = requests.post(\"http://127.0.0.1:5000/api/usuario/eliminar_articulo\",argumento)\n",
    "    registro_de_tiempo.finalizar_conteo()"
   ]
  }
 ],
 "metadata": {
  "interpreter": {
   "hash": "934b5891bb36f71eb20348ccc65f76433ba4be08368827d0a2f39d2253ecf52b"
  },
  "kernelspec": {
   "display_name": "Python 3.8.5 64-bit ('base': conda)",
   "language": "python",
   "name": "python3"
  },
  "language_info": {
   "codemirror_mode": {
    "name": "ipython",
    "version": 3
   },
   "file_extension": ".py",
   "mimetype": "text/x-python",
   "name": "python",
   "nbconvert_exporter": "python",
   "pygments_lexer": "ipython3",
   "version": "3.10.1"
  },
  "orig_nbformat": 4
 },
 "nbformat": 4,
 "nbformat_minor": 2
}
