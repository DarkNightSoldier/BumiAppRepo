{
 "cells": [
  {
   "cell_type": "code",
   "execution_count": 1,
   "metadata": {},
   "outputs": [],
   "source": [
    "import pandas\n",
    "import time\n",
    "import matplotlib.pyplot as plt\n",
    "import requests\n",
    "import json\n",
    "\n",
    "class RegistrodeTiempos:\n",
    "\n",
    "    def __init__(self,nombre_funcionalidad):\n",
    "        self.nombre_estructura = \"\"\n",
    "        self.nombre_funcionalidad = nombre_funcionalidad\n",
    "        self.n_datos = 0\n",
    "\n",
    "        self.tiempo_inicio = 0\n",
    "        self.tiempo_fin = 0\n",
    "\n",
    "        try:\n",
    "            self.datos = pandas.read_csv(\"asintotico/{}.csv\".format(self.nombre_funcionalidad),index_col=\"Numero de datos\")\n",
    "        except:\n",
    "            self.datos = pandas.DataFrame(columns=[\"SLL\",\"LLT\",\"DLL\",\"CDLL\",\"ColaArray\",\"ColaLLT\",\"ColaDLL\"],\n",
    "            index=[10**2,10**3,10**4,50000,10**5])\n",
    "            self.datos.index.name = \"Numero de datos\"\n",
    "\n",
    "    def iniciar_conteo(self,n,nombre_estructura):\n",
    "        self.tiempo_inicio = time.time()\n",
    "        self.nombre_estructura = nombre_estructura\n",
    "        self.n_datos = n\n",
    "\n",
    "    def finalizar_conteo(self):\n",
    "        self.tiempo_fin = time.time()\n",
    "        self.datos[self.nombre_estructura][self.n_datos] = self.tiempo_fin-self.tiempo_inicio\n",
    "        self.datos.to_csv(\"asintotico/{}.csv\".format(self.nombre_funcionalidad))\n",
    "\n",
    "    def retornar_grafica(self,estructuras_de_datos):\n",
    "        self.datos[estructuras_de_datos].plot()\n",
    "        plt.title(\"{}\".format(self.nombre_funcionalidad))\n",
    "        plt.ylabel(\"Tiempo (segundos)\")\n",
    "        plt.savefig(\"asintotico/{}.png\".format(self.nombre_funcionalidad))"
   ]
  },
  {
   "cell_type": "code",
   "execution_count": 3,
   "metadata": {},
   "outputs": [],
   "source": [
    "#Medida de tiempos funcion crear_objeto\n",
    "import json\n",
    "import requests\n",
    "\n",
    "\n",
    "f = open(\"Data/clientes.json\",encoding=\"utf8\")\n",
    "clientes = json.load(f)\n",
    "f.close()\n",
    "clientes = list(clientes.items())\n",
    "\n",
    "file_2 = open(\"Data/funcionarios.json\",encoding=\"utf8\")\n",
    "dato_funcionario = json.load(file_2)\n",
    "file_2.close()\n",
    "id_funcionario = list(dato_funcionario.keys())[0]\n",
    "funcionario = dato_funcionario[id_funcionario]\n",
    "funcionario[\"id\"] = id_funcionario\n",
    "\n",
    "\n",
    "registro_de_tiempo = RegistrodeTiempos(\"Crear_usuario_pedido_o_articulo\")\n",
    "\n",
    "for i in range(0,10**5):\n",
    "    dato_cliente = clientes[i]\n",
    "    cliente = dato_cliente[1]\n",
    "    cliente[\"id\"]  = i\n",
    "    if i==99 or i==999 or i==9999 or i==49999 or i==99999:\n",
    "        #Función de interés a medir\n",
    "        registro_de_tiempo.iniciar_conteo(i+1,\"SLL\")\n",
    "        x = requests.post(\"http://127.0.0.1:5000/api/usuario/nuevo_cliente\",cliente)\n",
    "        registro_de_tiempo.finalizar_conteo()\n",
    "    else:\n",
    "        x = requests.post(\"http://127.0.0.1:5000/api/usuario/nuevo_cliente\",cliente)"
   ]
  },
  {
   "cell_type": "code",
   "execution_count": 4,
   "metadata": {},
   "outputs": [],
   "source": [
    "#Medida de tiempos funcion ver_consultar_objeto_en_posicion_i\n",
    "\n",
    "registro_de_tiempo = RegistrodeTiempos(\"consultar_usuario_pedido_o_articulo_en_posicion_i\")\n",
    "for n in [10**2,10**3,10**4,50000,10**5]:\n",
    "    #Función de interés a medir\n",
    "    id_a_consultar = n-1\n",
    "    argumento = {\"id\":id_a_consultar}\n",
    "    registro_de_tiempo.iniciar_conteo(n,\"SLL\")\n",
    "    x = requests.post(\"http://127.0.0.1:5000/api/usuario/consultar_usuario\",argumento)\n",
    "    registro_de_tiempo.finalizar_conteo()"
   ]
  },
  {
   "cell_type": "code",
   "execution_count": 5,
   "metadata": {},
   "outputs": [],
   "source": [
    "#Medida de tiempos funcion actualizar_objeto_en_posicion_i\n",
    "import json\n",
    "import requests\n",
    "\n",
    "registro_de_tiempo = RegistrodeTiempos(\"actualizar_usuario_pedido_o_articulo_en_posicion_i\")\n",
    "for n in [10**2,10**3,10**4,50000,10**5]:\n",
    "    #Función de interés a medir\n",
    "    id_a_actualizar = n-1\n",
    "    argumento = {\"id\":id_a_actualizar,\"atributo\":\"direccion\",\"valor\":\"CL 20 40 50\"}\n",
    "    registro_de_tiempo.iniciar_conteo(n,\"SLL\")\n",
    "    x = requests.post(\"http://127.0.0.1:5000/api/usuario/actualizar_usuario\",argumento)\n",
    "    registro_de_tiempo.finalizar_conteo()"
   ]
  },
  {
   "cell_type": "code",
   "execution_count": 6,
   "metadata": {},
   "outputs": [],
   "source": [
    "#Medida de tiempos funcion eliminar_objeto_en_posicion_i\n",
    "import json\n",
    "import requests\n",
    "\n",
    "\n",
    "registro_de_tiempo = RegistrodeTiempos(\"eliminar__usuario_pedido_o_articulo_en_posicion_i\")\n",
    "for n in [10**2,10**3,10**4,50000,10**5]:\n",
    "    #Función de interés a medir\n",
    "    id_a_eliminar = n-1\n",
    "    argumento = {\"id\":id_a_eliminar}\n",
    "    registro_de_tiempo.iniciar_conteo(n,\"SLL\")\n",
    "    x = requests.post(\"http://127.0.0.1:5000/api/usuario/eliminar_usuario\",argumento)\n",
    "    registro_de_tiempo.finalizar_conteo()"
   ]
  },
  {
   "cell_type": "code",
   "execution_count": 2,
   "metadata": {},
   "outputs": [],
   "source": [
    "#Medida de tiempos funcion anadir_pedido_a_cola_funcionario\n",
    "\n",
    "import json\n",
    "import requests\n",
    "\n",
    "\n",
    "f = open(\"Data/pedidos.json\",encoding=\"utf8\")\n",
    "pedidos = json.load(f)\n",
    "f.close()\n",
    "pedidos = list(pedidos.items())\n",
    "\n",
    "\n",
    "#Creamos nuestro funcionario\n",
    "file_2 = open(\"Data/funcionarios.json\",encoding=\"utf8\")\n",
    "dato_funcionario = json.load(file_2)\n",
    "file_2.close()\n",
    "id_funcionario = list(dato_funcionario.keys())[0]\n",
    "funcionario = dato_funcionario[id_funcionario]\n",
    "funcionario[\"id\"] = id_funcionario\n",
    "\n",
    "#Empujamos nuestro funcionario\n",
    "x = requests.post(\"http://127.0.0.1:5000/api/usuario/nuevo_funcionario\",funcionario)\n",
    "\n",
    "\n",
    "\n",
    "for i in range(0,10**5+5):\n",
    "    dato_pedido = pedidos[i%100]\n",
    "    pedido = dato_pedido[1]\n",
    "    pedido[\"id\"]  = i\n",
    "    x = requests.post(\"http://127.0.0.1:5000/api/pedido/crear_pedido\",pedido)\n",
    "    argumento = {\"id_funcionario\":funcionario[\"id\"],\"id_pedido\":pedido[\"id\"]}\n",
    "    if i==99 or i==1000 or i==10001 or i==50002 or i==100003:\n",
    "        #Función de interés a medir\n",
    "        dicc = {99:100,1000:1000,10001:10000,50002:50000,100003:100000}\n",
    "\n",
    "        registro_de_tiempo = RegistrodeTiempos(\"Anadir_pedido_cola_funcionario\")\n",
    "        registro_de_tiempo.iniciar_conteo(dicc[i],\"ColaLLT\")\n",
    "        x = requests.post(\"http://127.0.0.1:5000/api/pedido/anadir_pedido_a_funcionario\",argumento)\n",
    "        registro_de_tiempo.finalizar_conteo()\n",
    "\n",
    "        registro_de_tiempo = RegistrodeTiempos(\"mostrar_proximo_pedido_cola_funcionario\")\n",
    "        registro_de_tiempo.iniciar_conteo(dicc[i],\"ColaLLT\")\n",
    "        x = requests.post(\"http://127.0.0.1:5000/api/pedido/mostrar_pedido_en_cola\",{\"id_funcionario\":funcionario[\"id\"]})\n",
    "        registro_de_tiempo.finalizar_conteo()\n",
    "\n",
    "        registro_de_tiempo = RegistrodeTiempos(\"marcar_pedido\")\n",
    "        registro_de_tiempo.iniciar_conteo(dicc[i],\"ColaLLT\")\n",
    "        argumento = {\"id_funcionario\":funcionario[\"id\"],\"valor\":\"entregado\"}\n",
    "        x = requests.post(\"http://127.0.0.1:5000/api/pedido/marcar_pedido\",argumento)\n",
    "        registro_de_tiempo.finalizar_conteo()\n",
    "\n",
    "    else:\n",
    "        x = requests.post(\"http://127.0.0.1:5000/api/pedido/anadir_pedido_a_funcionario\",argumento)"
   ]
  },
  {
   "cell_type": "code",
   "execution_count": 13,
   "metadata": {},
   "outputs": [
    {
     "data": {
      "image/png": "[encoded data removed]",
      "text/plain": [
       "<Figure size 432x288 with 1 Axes>"
      ]
     },
     "metadata": {
      "needs_background": "light"
     },
     "output_type": "display_data"
    }
   ],
   "source": [
    "registro_de_tiempo = RegistrodeTiempos(\"marcar_pedido\")\n",
    "registro_de_tiempo.retornar_grafica([\"ColaArray\",\"ColaLLT\",\"ColaDLL\"])"
   ]
  }
 ],
 "metadata": {
  "interpreter": {
   "hash": "934b5891bb36f71eb20348ccc65f76433ba4be08368827d0a2f39d2253ecf52b"
  },
  "kernelspec": {
   "display_name": "Python 3.8.5 64-bit ('base': conda)",
   "language": "python",
   "name": "python3"
  },
  "language_info": {
   "codemirror_mode": {
    "name": "ipython",
    "version": 3
   },
   "file_extension": ".py",
   "mimetype": "text/x-python",
   "name": "python",
   "nbconvert_exporter": "python",
   "pygments_lexer": "ipython3",
   "version": "3.8.5"
  },
  "orig_nbformat": 4
 },
 "nbformat": 4,
 "nbformat_minor": 2
}
